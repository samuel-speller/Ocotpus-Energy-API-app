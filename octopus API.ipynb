{
 "cells": [
  {
   "attachments": {},
   "cell_type": "markdown",
   "metadata": {},
   "source": [
    "# Octopus Energy Data Analysis"
   ]
  },
  {
   "cell_type": "code",
   "execution_count": 15,
   "metadata": {},
   "outputs": [
    {
     "data": {
      "text/plain": [
       "True"
      ]
     },
     "execution_count": 15,
     "metadata": {},
     "output_type": "execute_result"
    }
   ],
   "source": [
    "import os\n",
    "import pandas as pd\n",
    "import numpy as np\n",
    "import requests\n",
    "import json\n",
    "from dotenv import load_dotenv\n",
    "load_dotenv()"
   ]
  },
  {
   "attachments": {},
   "cell_type": "markdown",
   "metadata": {},
   "source": [
    "# Octopus API URL parameters"
   ]
  },
  {
   "attachments": {},
   "cell_type": "markdown",
   "metadata": {},
   "source": [
    "## Import environmental variables for API key and account information."
   ]
  },
  {
   "cell_type": "code",
   "execution_count": 18,
   "metadata": {},
   "outputs": [],
   "source": [
    "# pull data from the .env file using dotenv\n",
    "account_num = os.getenv('ACCOUNT_NUM')\n",
    "elec_mpan = os.getenv('ELEC_MPAN')\n",
    "elec_serial = os.getenv('ELECT_SERIAL')\n",
    "gas_mprn = os.getenv('GAS_MPRN')\n",
    "gas_serial = os.getenv('GAS_SERIAL')\n",
    "api_key = os.getenv('OCTOPUS_API_KEY')"
   ]
  },
  {
   "cell_type": "code",
   "execution_count": 20,
   "metadata": {},
   "outputs": [],
   "source": [
    "# URL parameters for the octopus api\n",
    "base = 'https://api.octopus.energy/'\n",
    "products = 'v1/products/'\n",
    "account = f'v1/accounts/{account_num}/'"
   ]
  },
  {
   "attachments": {},
   "cell_type": "markdown",
   "metadata": {},
   "source": [
    "# Get data from the API"
   ]
  },
  {
   "attachments": {},
   "cell_type": "markdown",
   "metadata": {},
   "source": [
    "## pull user meter data from the API"
   ]
  },
  {
   "cell_type": "code",
   "execution_count": 30,
   "metadata": {},
   "outputs": [
    {
     "name": "stdout",
     "output_type": "stream",
     "text": [
      "API connected successfully\n"
     ]
    }
   ],
   "source": [
    "account_info_response = requests.get(base + account, auth=(api_key, ''))\n",
    "\n",
    "if account_info_response.status_code == 200:\n",
    "    print('API connected successfully')\n",
    "else:\n",
    "    print('API not connected!')"
   ]
  },
  {
   "cell_type": "code",
   "execution_count": 34,
   "metadata": {},
   "outputs": [
    {
     "name": "stdout",
     "output_type": "stream",
     "text": [
      "dict_keys(['number', 'properties'])\n"
     ]
    }
   ],
   "source": [
    "account_info = account_info_response.json()\n",
    "\n",
    "print(account_info.keys())"
   ]
  },
  {
   "cell_type": "code",
   "execution_count": 31,
   "metadata": {},
   "outputs": [],
   "source": [
    "def jprint(obj):\n",
    "    '''A function to convert a JSON object into a more readable string of text'''\n",
    "    text = json.dumps(obj, sort_keys=True, indent=4)\n",
    "    print(text)"
   ]
  },
  {
   "cell_type": "code",
   "execution_count": 35,
   "metadata": {},
   "outputs": [
    {
     "name": "stdout",
     "output_type": "stream",
     "text": [
      "{\n",
      "    \"number\": \"A-5F880412\",\n",
      "    \"properties\": [\n",
      "        {\n",
      "            \"address_line_1\": \"40 Oakwood Avenue\",\n",
      "            \"address_line_2\": \"\",\n",
      "            \"address_line_3\": \"\",\n",
      "            \"county\": \"South Glamorgan\",\n",
      "            \"electricity_meter_points\": [\n",
      "                {\n",
      "                    \"agreements\": [\n",
      "                        {\n",
      "                            \"tariff_code\": \"E-1R-USWITCH-FIX-12M-19-06-12-K\",\n",
      "                            \"valid_from\": \"2019-07-05T00:00:00+01:00\",\n",
      "                            \"valid_to\": \"2020-07-05T00:00:00+01:00\"\n",
      "                        },\n",
      "                        {\n",
      "                            \"tariff_code\": \"E-1R-VAR-19-04-12-K\",\n",
      "                            \"valid_from\": \"2020-07-05T00:00:00+01:00\",\n",
      "                            \"valid_to\": \"2023-04-01T00:00:00+01:00\"\n",
      "                        },\n",
      "                        {\n",
      "                            \"tariff_code\": \"E-1R-VAR-22-11-01-K\",\n",
      "                            \"valid_from\": \"2023-04-01T00:00:00+01:00\",\n",
      "                            \"valid_to\": null\n",
      "                        }\n",
      "                    ],\n",
      "                    \"consumption_standard\": 2548,\n",
      "                    \"is_export\": false,\n",
      "                    \"meters\": [\n",
      "                        {\n",
      "                            \"registers\": [\n",
      "                                {\n",
      "                                    \"identifier\": \"N\",\n",
      "                                    \"is_settlement_register\": true,\n",
      "                                    \"rate\": \"STANDARD\"\n",
      "                                }\n",
      "                            ],\n",
      "                            \"serial_number\": \"D14W108341\"\n",
      "                        },\n",
      "                        {\n",
      "                            \"registers\": [\n",
      "                                {\n",
      "                                    \"identifier\": \"1\",\n",
      "                                    \"is_settlement_register\": true,\n",
      "                                    \"rate\": \"STANDARD\"\n",
      "                                }\n",
      "                            ],\n",
      "                            \"serial_number\": \"20L3031753\"\n",
      "                        }\n",
      "                    ],\n",
      "                    \"mpan\": \"2199993901155\",\n",
      "                    \"profile_class\": 1\n",
      "                }\n",
      "            ],\n",
      "            \"gas_meter_points\": [\n",
      "                {\n",
      "                    \"agreements\": [\n",
      "                        {\n",
      "                            \"tariff_code\": \"G-1R-USWITCH-FIX-12M-19-06-12-K\",\n",
      "                            \"valid_from\": \"2019-07-05T00:00:00+01:00\",\n",
      "                            \"valid_to\": \"2020-07-05T00:00:00+01:00\"\n",
      "                        },\n",
      "                        {\n",
      "                            \"tariff_code\": \"G-1R-VAR-19-04-12-K\",\n",
      "                            \"valid_from\": \"2020-07-05T00:00:00+01:00\",\n",
      "                            \"valid_to\": \"2023-04-01T00:00:00+01:00\"\n",
      "                        },\n",
      "                        {\n",
      "                            \"tariff_code\": \"G-1R-VAR-22-11-01-K\",\n",
      "                            \"valid_from\": \"2023-04-01T00:00:00+01:00\",\n",
      "                            \"valid_to\": null\n",
      "                        }\n",
      "                    ],\n",
      "                    \"consumption_standard\": 8893,\n",
      "                    \"meters\": [\n",
      "                        {\n",
      "                            \"serial_number\": \"E6S12756302061\"\n",
      "                        },\n",
      "                        {\n",
      "                            \"serial_number\": \"000718620\"\n",
      "                        }\n",
      "                    ],\n",
      "                    \"mprn\": \"2753324610\"\n",
      "                }\n",
      "            ],\n",
      "            \"id\": 939106,\n",
      "            \"moved_in_at\": \"2019-06-18T00:00:00+01:00\",\n",
      "            \"moved_out_at\": null,\n",
      "            \"postcode\": \"CF23 9HA\",\n",
      "            \"town\": \"Cardiff\"\n",
      "        }\n",
      "    ]\n",
      "}\n"
     ]
    }
   ],
   "source": [
    "jprint(account_info)"
   ]
  },
  {
   "cell_type": "code",
   "execution_count": 22,
   "metadata": {},
   "outputs": [],
   "source": [
    "# Open a file for writing\n",
    "with open('response.json', 'w') as outfile:\n",
    "    # Write the data to the file in JSON format\n",
    "    json.dump(response.json(), outfile)\n"
   ]
  },
  {
   "cell_type": "code",
   "execution_count": null,
   "metadata": {},
   "outputs": [],
   "source": []
  }
 ],
 "metadata": {
  "kernelspec": {
   "display_name": "base",
   "language": "python",
   "name": "python3"
  },
  "language_info": {
   "codemirror_mode": {
    "name": "ipython",
    "version": 3
   },
   "file_extension": ".py",
   "mimetype": "text/x-python",
   "name": "python",
   "nbconvert_exporter": "python",
   "pygments_lexer": "ipython3",
   "version": "3.10.9"
  },
  "orig_nbformat": 4
 },
 "nbformat": 4,
 "nbformat_minor": 2
}
